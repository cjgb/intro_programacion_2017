{
 "cells": [
  {
   "cell_type": "markdown",
   "metadata": {},
   "source": [
    "# Colecciones\n",
    "Las colecciones son estructuras de datos que nos ayudan a programar más eficazmente. En esta sesión repasaremos las más usuales en Python."
   ]
  },
  {
   "cell_type": "markdown",
   "metadata": {},
   "source": [
    "### Tuplas\n",
    "Las tuplas son secuncias inmutables de elementos."
   ]
  },
  {
   "cell_type": "code",
   "execution_count": 2,
   "metadata": {
    "collapsed": false
   },
   "outputs": [
    {
     "data": {
      "text/plain": [
       "(1, 2, 5, 'hola', True)"
      ]
     },
     "execution_count": 2,
     "metadata": {},
     "output_type": "execute_result"
    }
   ],
   "source": [
    "a = (1, 2, 5, \"hola\", True)\n",
    "a"
   ]
  },
  {
   "cell_type": "code",
   "execution_count": 3,
   "metadata": {
    "collapsed": false
   },
   "outputs": [
    {
     "data": {
      "text/plain": [
       "1"
      ]
     },
     "execution_count": 3,
     "metadata": {},
     "output_type": "execute_result"
    }
   ],
   "source": [
    "a[0]"
   ]
  },
  {
   "cell_type": "code",
   "execution_count": 4,
   "metadata": {
    "collapsed": false
   },
   "outputs": [
    {
     "data": {
      "text/plain": [
       "(2, 5)"
      ]
     },
     "execution_count": 4,
     "metadata": {},
     "output_type": "execute_result"
    }
   ],
   "source": [
    "a[1:3]    # ¿Qué elementos selecciona este rango?"
   ]
  },
  {
   "cell_type": "markdown",
   "metadata": {},
   "source": [
    "#### Ejercicio\n",
    "Prueba con índices negativos: ¿qué pasa?"
   ]
  },
  {
   "cell_type": "code",
   "execution_count": 5,
   "metadata": {
    "collapsed": false
   },
   "outputs": [
    {
     "data": {
      "text/plain": [
       "(1, 2, 5, 'hola', True, 2, 3, 'hola')"
      ]
     },
     "execution_count": 5,
     "metadata": {},
     "output_type": "execute_result"
    }
   ],
   "source": [
    "b = 2, 3, \"hola\"    # el paréntesis no es necesario\n",
    "c = a + b\n",
    "c"
   ]
  },
  {
   "cell_type": "code",
   "execution_count": 6,
   "metadata": {
    "collapsed": false
   },
   "outputs": [
    {
     "name": "stdout",
     "output_type": "stream",
     "text": [
      "(1, 1)\n",
      "(2, 4)\n",
      "(5, 25)\n"
     ]
    }
   ],
   "source": [
    "for x in c[0:3]:\n",
    "    print((x, x**2))"
   ]
  },
  {
   "cell_type": "markdown",
   "metadata": {},
   "source": [
    "Operaciones con tuplas:"
   ]
  },
  {
   "cell_type": "code",
   "execution_count": 7,
   "metadata": {
    "collapsed": false
   },
   "outputs": [
    {
     "name": "stdout",
     "output_type": "stream",
     "text": [
      "a + a:  (1, 2, 5, 'hola', True, 1, 2, 5, 'hola', True)\n",
      "b * 2:  (2, 3, 'hola', 2, 3, 'hola')\n",
      "len(a):  5\n",
      "¿contiene 'a' el elemento 'hola'?:  True\n"
     ]
    }
   ],
   "source": [
    "# concatenación (con +)\n",
    "print(\"a + a: \", a + a)\n",
    "# repetición (con *)\n",
    "print(\"b * 2: \", b * 2)\n",
    "# longitud (len)\n",
    "print(\"len(a): \", len(a))\n",
    "# contiene\n",
    "print(\"¿contiene 'a' el elemento 'hola'?: \", \"hola\" in a)\n"
   ]
  },
  {
   "cell_type": "code",
   "execution_count": 8,
   "metadata": {
    "collapsed": false
   },
   "outputs": [
    {
     "data": {
      "text/plain": [
       "(1, 2, 5, 'hola', True)"
      ]
     },
     "execution_count": 8,
     "metadata": {},
     "output_type": "execute_result"
    }
   ],
   "source": [
    "a"
   ]
  },
  {
   "cell_type": "code",
   "execution_count": 12,
   "metadata": {
    "collapsed": false
   },
   "outputs": [
    {
     "data": {
      "text/plain": [
       "'hola'"
      ]
     },
     "execution_count": 12,
     "metadata": {},
     "output_type": "execute_result"
    }
   ],
   "source": [
    "a1, a2, a3, a4, a5 = a\n",
    "a4"
   ]
  },
  {
   "cell_type": "markdown",
   "metadata": {},
   "source": [
    "### Listas\n",
    "Las listas se parecen a las tuplas, solo que son mutables: se pueden modificar y borrar elementos. \n",
    "\n",
    "Aunque admiten elementos de distito tipo, generalmente se usan con elementos homogéneos."
   ]
  },
  {
   "cell_type": "code",
   "execution_count": 8,
   "metadata": {
    "collapsed": false
   },
   "outputs": [
    {
     "name": "stdout",
     "output_type": "stream",
     "text": [
      "[7, 3.14159, 'pi', False]\n"
     ]
    }
   ],
   "source": [
    "mi_lista = [7, 3.14, \"pi\", False]\n",
    "mi_lista[1] = 3.14159\n",
    "print(mi_lista)"
   ]
  },
  {
   "cell_type": "code",
   "execution_count": 9,
   "metadata": {
    "collapsed": false
   },
   "outputs": [
    {
     "name": "stdout",
     "output_type": "stream",
     "text": [
      "[7, False]\n"
     ]
    }
   ],
   "source": [
    "del mi_lista[1:3]\n",
    "print(mi_lista)"
   ]
  },
  {
   "cell_type": "markdown",
   "metadata": {},
   "source": [
    "#### Ejercicio\n",
    "Prueba las operaciones de tuplas sobre listas: concatenar, etc."
   ]
  },
  {
   "cell_type": "markdown",
   "metadata": {},
   "source": [
    "Existen varias funciones que operan sobre listas. Por ejemplo, `max`, `min`, `len`."
   ]
  },
  {
   "cell_type": "markdown",
   "metadata": {},
   "source": [
    "#### Ejercicio\n",
    "Prueba las funciones anteriores."
   ]
  },
  {
   "cell_type": "markdown",
   "metadata": {},
   "source": [
    "Las listas tienen varios _métodos_ útiles. De ahí el siguiente ejercicio."
   ]
  },
  {
   "cell_type": "markdown",
   "metadata": {},
   "source": [
    "#### Ejercicio\n",
    "En la sección 5.1 de [esta página](https://docs.python.org/3/tutorial/datastructures.html) hay una lista de métodos que operan sobre listas. Prueba unos cuantos de ellos. "
   ]
  },
  {
   "cell_type": "markdown",
   "metadata": {},
   "source": [
    "#### Ejercicio\n",
    "Crea una función que detecte (devuelva True o False) si un número es o no primo. Uśala para crear una lista de los primos menores que 10000."
   ]
  },
  {
   "cell_type": "markdown",
   "metadata": {},
   "source": [
    "#### \"List comprehensions\"\n",
    "Las _list comprehensions_ son expresiones compactas para operar sobre listas. Existen en muchos lenguajes de programación modernos."
   ]
  },
  {
   "cell_type": "code",
   "execution_count": 10,
   "metadata": {
    "collapsed": false
   },
   "outputs": [
    {
     "data": {
      "text/plain": [
       "[0, 2, 4, 6, 8, 10, 12, 14, 16, 18]"
      ]
     },
     "execution_count": 10,
     "metadata": {},
     "output_type": "execute_result"
    }
   ],
   "source": [
    "pares = [x for x in range(1000) if x % 2 == 0]\n",
    "pares[0:10]"
   ]
  },
  {
   "cell_type": "code",
   "execution_count": 11,
   "metadata": {
    "collapsed": false
   },
   "outputs": [
    {
     "data": {
      "text/plain": [
       "[(0, 500),\n",
       " (1, 499),\n",
       " (2, 498),\n",
       " (3, 497),\n",
       " (4, 496),\n",
       " (5, 495),\n",
       " (6, 494),\n",
       " (7, 493),\n",
       " (8, 492),\n",
       " (9, 491)]"
      ]
     },
     "execution_count": 11,
     "metadata": {},
     "output_type": "execute_result"
    }
   ],
   "source": [
    "otra = [(x, y) for x in range(1000) \n",
    "       for y in range(1000) if x + y == 500]\n",
    "otra[0:10]"
   ]
  },
  {
   "cell_type": "code",
   "execution_count": 12,
   "metadata": {
    "collapsed": false
   },
   "outputs": [
    {
     "data": {
      "text/plain": [
       "[(2, 498),\n",
       " (8, 492),\n",
       " (14, 486),\n",
       " (20, 480),\n",
       " (26, 474),\n",
       " (32, 468),\n",
       " (38, 462),\n",
       " (44, 456),\n",
       " (50, 450),\n",
       " (56, 444)]"
      ]
     },
     "execution_count": 12,
     "metadata": {},
     "output_type": "execute_result"
    }
   ],
   "source": [
    "otra = [(x, y) \n",
    "        for x in range(1000) if x % 2 == 0\n",
    "        for y in range(1000) if y % 3 == 0\n",
    "        if x + y == 500]\n",
    "otra[0:10]"
   ]
  },
  {
   "cell_type": "markdown",
   "metadata": {},
   "source": [
    "####  Ejercicio\n",
    "Crea una función que dado un número, calcule la suma de sus _divisores propios_ (todos menos él, pero incluyendo el 1). Calcula todas las parejas de números amigos menores que 1000. "
   ]
  },
  {
   "cell_type": "markdown",
   "metadata": {},
   "source": [
    "### Conjuntos\n",
    "Los conjuntos son colecciones no ordenadas de elementos _distintos_. Sobre ellos se pueden utilizar las operaciones habituales de conjuntos: intersección, unión, comprobar si contiene un elemento, etc. También se pueden recorrer (para, por ejemplo, operar sobre todos sus elementos)."
   ]
  },
  {
   "cell_type": "code",
   "execution_count": 13,
   "metadata": {
    "collapsed": true
   },
   "outputs": [],
   "source": [
    "mi_conjunto = {1, 4, 24, \"hola\"}"
   ]
  },
  {
   "cell_type": "markdown",
   "metadata": {},
   "source": [
    "Los conjuntos no admiten elementos repetidos. Si un conjunto se crea a partir de datos con elementos repetidos, se eliminan."
   ]
  },
  {
   "cell_type": "code",
   "execution_count": 14,
   "metadata": {
    "collapsed": false
   },
   "outputs": [
    {
     "name": "stdout",
     "output_type": "stream",
     "text": [
      "3.14\n",
      "1\n",
      "hola\n",
      "4\n"
     ]
    }
   ],
   "source": [
    "a = (1, 1, 4, \"hola\", 3.14)\n",
    "b = set(a)\n",
    "for x in b:\n",
    "    print(x)"
   ]
  },
  {
   "cell_type": "markdown",
   "metadata": {},
   "source": [
    "#### Ejercicio\n",
    "En [esta página](https://docs.python.org/2/library/stdtypes.html#set-types-set-frozenset) aparece una serie de funciones y métodos que aplican a conjuntos"
   ]
  },
  {
   "cell_type": "markdown",
   "metadata": {},
   "source": [
    "Los conjuntos, vectores, tuplas (y otros) son ejemplos de _iterables_. Los iterables son estructuras de datos que se pueden recorrer (por ejemplo, en un bucle)."
   ]
  },
  {
   "cell_type": "markdown",
   "metadata": {},
   "source": [
    "## Diccionarios (o tablas hash)\n",
    "Los diccionarios son colecciones de pares clave-valor. Permiten acceder muy rápidamente a valores dada su correspondiente clave."
   ]
  },
  {
   "cell_type": "code",
   "execution_count": 15,
   "metadata": {
    "collapsed": false
   },
   "outputs": [
    {
     "name": "stdout",
     "output_type": "stream",
     "text": [
      "El valor correspondiente a  three  es  3\n",
      "El valor correspondiente a  two  es  2\n",
      "El valor correspondiente a  one  es  1\n"
     ]
    }
   ],
   "source": [
    "b = {'one': 1, 'two': 2, 'three': 3}\n",
    "for k, v in b.items():\n",
    "    print(\"El valor correspondiente a \", k, \" es \", v)"
   ]
  },
  {
   "cell_type": "code",
   "execution_count": 16,
   "metadata": {
    "collapsed": false
   },
   "outputs": [
    {
     "name": "stdout",
     "output_type": "stream",
     "text": [
      "1.1\n"
     ]
    }
   ],
   "source": [
    "b[\"one\"] = 1.1   # machaca un valor\n",
    "print(b[\"one\"])"
   ]
  },
  {
   "cell_type": "code",
   "execution_count": 17,
   "metadata": {
    "collapsed": false
   },
   "outputs": [
    {
     "name": "stdout",
     "output_type": "stream",
     "text": [
      "El valor correspondiente a  three  es  3\n",
      "El valor correspondiente a  two  es  2\n",
      "El valor correspondiente a  seven  es  7\n",
      "El valor correspondiente a  one  es  1.1\n"
     ]
    }
   ],
   "source": [
    "b[\"seven\"] = 7    # añade un valor\n",
    "for k, v in b.items():\n",
    "    print(\"El valor correspondiente a \", k, \" es \", v)"
   ]
  },
  {
   "cell_type": "markdown",
   "metadata": {},
   "source": [
    "También se pueden recorrer las claves:"
   ]
  },
  {
   "cell_type": "code",
   "execution_count": 20,
   "metadata": {
    "collapsed": false
   },
   "outputs": [
    {
     "name": "stdout",
     "output_type": "stream",
     "text": [
      "El valor correspondiente a three es 3\n",
      "El valor correspondiente a two es 2\n",
      "El valor correspondiente a seven es 7\n",
      "El valor correspondiente a one es 1.1\n"
     ]
    }
   ],
   "source": [
    "for k in b.keys():\n",
    "    print(\"El valor correspondiente a\", k, \"es\", b[k])"
   ]
  },
  {
   "cell_type": "markdown",
   "metadata": {},
   "source": [
    "#### Ejercicio\n",
    "Encuentra [aquí](https://docs.python.org/2/library/stdtypes.html#dict.items) cómo iterar no sobre las parejas clave-valor sino sobre las claves o los valores (individualmente)."
   ]
  },
  {
   "cell_type": "markdown",
   "metadata": {},
   "source": [
    "#### Ejercicio\n",
    "Crea un diccionario que asocie a cada número (natural) menor que 1000 la lista de sus divisores."
   ]
  },
  {
   "cell_type": "markdown",
   "metadata": {},
   "source": [
    "#### Ejercicio\n",
    "Crea un diccionario que asocie a cada número natural (menor que 100000) la suma de sus divisores naturales. Úsalo para encontrar parejas de números amigos (que son ciclos de longitud 2)."
   ]
  },
  {
   "cell_type": "markdown",
   "metadata": {},
   "source": [
    "#### Ejercicio\n",
    "¿Existen ciclos de orden 3?"
   ]
  },
  {
   "cell_type": "markdown",
   "metadata": {},
   "source": [
    "#### Ejercicio\n",
    "Resuelve el [problema 14 del proyecto Euler](https://projecteuler.net/problem=14). Usa colecciones para almacenar valores intermedios y ahorrar tiempo de proceso."
   ]
  }
 ],
 "metadata": {
  "anaconda-cloud": {},
  "kernelspec": {
   "display_name": "Python [default]",
   "language": "python",
   "name": "python3"
  },
  "language_info": {
   "codemirror_mode": {
    "name": "ipython",
    "version": 3
   },
   "file_extension": ".py",
   "mimetype": "text/x-python",
   "name": "python",
   "nbconvert_exporter": "python",
   "pygments_lexer": "ipython3",
   "version": "3.5.2"
  }
 },
 "nbformat": 4,
 "nbformat_minor": 1
}
