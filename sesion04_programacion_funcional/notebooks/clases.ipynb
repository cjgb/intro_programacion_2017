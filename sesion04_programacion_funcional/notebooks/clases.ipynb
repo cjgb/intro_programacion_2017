{
 "cells": [
  {
   "cell_type": "markdown",
   "metadata": {},
   "source": [
    "# Clases en Python"
   ]
  },
  {
   "cell_type": "markdown",
   "metadata": {},
   "source": [
    "Vamos a definir y utilizar una clase copipegada y adaptada de la [documentación de referencia de Python](https://docs.python.org/2/tutorial/classes.html). Primero definimos la clase y luego creamos un objeto."
   ]
  },
  {
   "cell_type": "code",
   "execution_count": 22,
   "metadata": {
    "collapsed": false
   },
   "outputs": [],
   "source": [
    "class Dog:\n",
    "    kind = 'canine'         # class variable shared by all instances\n",
    "\n",
    "    def __init__(self, name):\n",
    "        self.name = name\n",
    "        \n",
    "    def bark(self):\n",
    "        print(\"Guau!\")\n",
    "        \n",
    "mi_perro = Dog(\"chucho\")"
   ]
  },
  {
   "cell_type": "markdown",
   "metadata": {},
   "source": [
    "Ahora podemos utilizarla."
   ]
  },
  {
   "cell_type": "code",
   "execution_count": 23,
   "metadata": {
    "collapsed": false
   },
   "outputs": [
    {
     "data": {
      "text/plain": [
       "'chucho'"
      ]
     },
     "execution_count": 23,
     "metadata": {},
     "output_type": "execute_result"
    }
   ],
   "source": [
    "mi_perro.name"
   ]
  },
  {
   "cell_type": "code",
   "execution_count": 24,
   "metadata": {
    "collapsed": false
   },
   "outputs": [
    {
     "name": "stdout",
     "output_type": "stream",
     "text": [
      "Guau!\n"
     ]
    }
   ],
   "source": [
    "mi_perro.bark()"
   ]
  },
  {
   "cell_type": "markdown",
   "metadata": {},
   "source": [
    "#### Ejercicio\n",
    "Modifica la clase anterior para que el perro pueda ladrar su nombre."
   ]
  },
  {
   "cell_type": "markdown",
   "metadata": {},
   "source": [
    "#### Ejercicio\n",
    "Crea la clase `exponential` que implemente la distribución exponencial. Tiene que tener un atributo (para lambda) y cuatro funciones, `density`, `probability`, `quantile` y `random`. Aunque ya lo sabes, te recuerdo que la función de cuanties es la inversa de $F$ y que se pueden obtener muestras aleatorias de cualquier distribución haciendo $F^{-1}(U)$, donde $U$ es una uniforme en $[0,1]$. Lo único que no sabes (pero Google te ayudará a averiguarlo) es cómo generar valores de una distribución uniforme en Python."
   ]
  },
  {
   "cell_type": "markdown",
   "metadata": {},
   "source": [
    "#### Ejercicio\n",
    "Modifica la clase anterior para que `random` admita el parámetro `n` y devuelva un vector de n valores aleatorios."
   ]
  },
  {
   "cell_type": "markdown",
   "metadata": {},
   "source": [
    "#### Ejercicio\n",
    "Crea una clase para simular un planeta en el espacio (bidimensional) con sus atributos (masa, posición, velocidad). Añade una función que dado un incremento de tiempo $\\epsilon$ y una fuerza exterior dada (un vector) recalcule su velocidad y posición."
   ]
  },
  {
   "cell_type": "markdown",
   "metadata": {},
   "source": [
    "#### Ejercicio\n",
    "Crea una clase para modelar un sistema de dos cuerpos (planetas). Debería contener métodos para calcular la atracción entre los cuerpos, actualizar sus posiciones, etc. Busca la manera de crear vectores de posiciones de los cuerpos y represéntalos gráficamente con Python."
   ]
  },
  {
   "cell_type": "markdown",
   "metadata": {},
   "source": [
    "#### Ejercicio\n",
    "Implementa el juego de la vida en un tablero de dimensiones arbitrarias. Cada celdilla es un objeto. El tablero es otro objeto (que contiene un vector de celdillas) y la clase correspondiente contiene una función que lo representa en forma de arte ASCII. La clase tablero tiene que tener una función que cree otro tablero a partir de uno dado de acuerdo con las reglas del juego de la vida. \n",
    "**Nota**: puedes crear el tablero como un vector de celdillas numeradas (de 0 a $n^2 - 1$). "
   ]
  },
  {
   "cell_type": "markdown",
   "metadata": {},
   "source": [
    "#### Ejercicio\n",
    "Tu clase va a representar un peso en el extremo de un muelle. Necesitas parametrizar las posiciones de los extremos del muelle (uno de ellos corresponde a la posición del peso) y las funciones necesarias para modelar el sistema: fuerza en el peso, fuerza que ejerce el muelle ($-kx$, donde $x$ es la elongación del muelle), el movimiento del sistema en un pequeño intervalo de tiempo $\\epsilon$, etc."
   ]
  },
  {
   "cell_type": "markdown",
   "metadata": {},
   "source": [
    "#### Ejercicio\n",
    "Crea un sistema que sea un muelle del que pende un peso (como arriba) y del que pende otro muelle con otro peso. Simula la evolución del sistema."
   ]
  },
  {
   "cell_type": "markdown",
   "metadata": {},
   "source": [
    "# Ejercicios de repaso"
   ]
  },
  {
   "cell_type": "markdown",
   "metadata": {},
   "source": [
    "#### Ejercicio\n",
    "La integral $\\int_0^\\infty f(x) \\pi(x) dx$, donde $\\pi(x)$ es la densidad de la distribución exponencial puede aproximarse como $\\frac{1}{N} \\sum_N f(x_i)$, donde los $x_i$ son muestras de la densidad exponencial. Crea una función a la que, si le pasas otra (la $f$) y un valor `n`, calcule esa aproximación usando `n` sumandos."
   ]
  },
  {
   "cell_type": "markdown",
   "metadata": {},
   "source": [
    "#### Ejercicio\n",
    "Busca la manera de aproximar $\\int_1^{10} x^2 \\pi(x) dx$."
   ]
  }
 ],
 "metadata": {
  "anaconda-cloud": {},
  "kernelspec": {
   "display_name": "Python [conda root]",
   "language": "python",
   "name": "conda-root-py"
  },
  "language_info": {
   "codemirror_mode": {
    "name": "ipython",
    "version": 3
   },
   "file_extension": ".py",
   "mimetype": "text/x-python",
   "name": "python",
   "nbconvert_exporter": "python",
   "pygments_lexer": "ipython3",
   "version": "3.5.2"
  }
 },
 "nbformat": 4,
 "nbformat_minor": 1
}
